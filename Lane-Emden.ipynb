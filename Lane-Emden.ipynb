{
 "cells": [
  {
   "cell_type": "markdown",
   "id": "608c6e7a",
   "metadata": {},
   "source": [
    "<h1>Krittika Summer Project</h1>\n",
    "<h2>Lane Emden Equation</h2>"
   ]
  },
  {
   "cell_type": "markdown",
   "id": "ce00d364",
   "metadata": {},
   "source": [
    "<h4>The Lane Emden equation:  ${\\begin{align}\\frac{1}{\\xi^2}\\frac{d}{d \\xi}(\\xi^2 \\frac{d \\theta}{d \\xi}) + \\theta^n = 0\\end{align}}$</h4>\n",
    "used to model the structure of the star can be derived from the three equations.<br>\n",
    "(1) Mass continuity equation:   ${\\begin{align}\\frac{dm(r)}{dr} = 4\\pi r^2\\rho (r) \\end{align}}$<br>\n",
    "(2) Hydrostatic equilibrium equation:   ${\\begin{align}\\frac{dP(r)}{dr} = -\\frac{G m(r)}{r^2} \\rho (r)\\end{align}}$<br>\n",
    "(3) Polytropic equation of state:   ${\\begin{align}P = K\\rho^\\gamma\\end{align}}$ which can be derived from ${\\begin{align}PV^\\gamma = constant\\end{align}}$ and ${\\begin{align}\\rho=\\frac{N\\mu m_p}{V}\\end{align}}$<br>\n",
    "<b>Note:</b> $\\gamma$ here isn't the adiabatic index and it can also be written as ${\\begin{align}\\gamma = 1+\\frac{1}{n}\\end{align}}$ where n is the polytropic index."
   ]
  },
  {
   "cell_type": "markdown",
   "id": "edb900b9",
   "metadata": {},
   "source": [
    "<h4>Solving for $\\rho(r)$ in terms of independent variable $r$</h4><br>\n",
    "Eliminating $m(r)$ from Eqns (1) and (2):<br>\n",
    "${\\begin{align}\\frac{1}{\\rho(r)}\\frac{dP(r)}{dr} = -\\frac{Gm(r)}{r^2}\\end{align}\\qquad\\qquad\\qquad\\qquad\\qquad\\space}$   ----- Eqn(2)<br>\n",
    "\n",
    "${\\begin{align}{\\frac {d}{dr}}\\left({\\frac {1}{\\rho(r)}}{\\frac {dP(r)}{dr}}\\right)&={\\frac {2Gm(r)}{r^{3}}}-{\\frac {G}{r^{2}}}{\\frac {dm(r)}{dr}}\\\\&=-{\\frac {2}{\\rho(r) r}}{\\frac {dP(r)}{dr}}-4\\pi G\\rho(r) \\end{align}\\qquad}$ (Substituting $m(r)$ from Eqn(2) and $\\frac{dm(r)}{dr}$ from Eqn(1))\n",
    "\n",
    "${\\begin{align}r^{2}{\\frac {d}{dr}}\\left({\\frac {1}{\\rho(r)}}{\\frac {dP(r)}{dr}}\\right)+{\\frac {2r}{\\rho(r)}}{\\frac {dP(r)}{dr}}={\\frac {d}{dr}}\\left({\\frac {r^{2}}{\\rho(r)}}{\\frac {dP(r)}{dr}}\\right)=-4\\pi Gr^{2}\\rho(r)\\end{align}\\qquad}$ (Multiplying with $r^2$ on both sides)\n",
    "\n",
    "${\\begin{align}{\\frac{1}{r^2}}{\\frac {d}{dr}}\\left({\\frac {r^{2}}{\\rho(r)}}{\\frac {dP(r)}{dr}}\\right)=-4\\pi G\\rho(r)\\end{align}}$\n",
    "<br>\n",
    "Now this form resembles the <b>Poisson's equation</b> for gravity as Eqn (2) also suggests ${\\begin{align}\\frac{1}{\\rho(r)}\\frac{dP(r)}{dr} = -\\frac{Gm(r)}{r^2} = \\frac{\\partial\\Phi}{\\partial r} \\end{align}}$<br>\n",
    "\n",
    "Substituting $P(r)$ from Eqn(3):<br>\n",
    "${\\begin{align}{\\frac{K}{r^2}}{\\frac {d}{dr}}\\left({\\frac {r^{2}}{\\rho(r)}}{\\frac {d\\rho(r)^\\gamma}{dr}}\\right)=-4\\pi G\\rho(r)\\end{align}}$\n",
    "Now since $K$ is a constant with varying dimensions depending on $\\gamma = (n+1)/n$, it is better to convert it to a dimensionless form by substituting $\\rho(r) = \\rho_0 \\theta(r)^n$ and now $\\theta(r)$ is our dimensionless dependent variable and $\\rho_0$ is a suitable constant with dimensions of density.\n",
    "\n",
    "$${\\begin{align}\\frac{(n+1)K{\\rho_0}^{(\\frac{1}{n}-1)}}{4\\pi G}\\frac{1}{r^2}\\frac{d}{dr}(r^2\\frac{d\\theta(r)}{dr})+\\theta(r)^n=0 \\end{align}}$$\n",
    "\n",
    "Now we have to make the independent variable $r$ dimensionless by writing the constants piled up at the left as ${\\begin{align}C^2 = \\frac{(n+1)K{\\rho_0}^{(\\frac{1}{n}-1)}}{4\\pi G}\\end{align}}$ as it is positive.\n",
    "We can hence define our dimensionless independent variable ${\\begin{align}\\xi=\\frac{r}{C}\\end{align}}.$<br><br>\n",
    "\n",
    "Substituting this we get the <b>Lane-Emden equation</b><br>\n",
    "$${\\begin{align}\\frac{1}{\\xi^2}\\frac{d}{d \\xi}(\\xi^2 \\frac{d \\theta}{d \\xi}) + \\theta^n = 0\\end{align}}$$"
   ]
  },
  {
   "cell_type": "code",
   "execution_count": null,
   "id": "69dd1442",
   "metadata": {},
   "outputs": [
    {
     "ename": "",
     "evalue": "",
     "output_type": "error",
     "traceback": [
      "\u001b[1;31mRunning cells with 'c:\\Users\\naska\\AppData\\Local\\Programs\\Python\\Python39\\python.exe' requires the ipykernel package.\n",
      "\u001b[1;31mRun the following command to install 'ipykernel' into the Python environment. \n",
      "\u001b[1;31mCommand: 'c:/Users/naska/AppData/Local/Programs/Python/Python39/python.exe -m pip install ipykernel -U --user --force-reinstall'"
     ]
    }
   ],
   "source": [
    "import numpy as np\n",
    "import csv\n",
    "import matplotlib.pyplot as plt\n",
    "from scipy.integrate import solve_ivp"
   ]
  },
  {
   "cell_type": "markdown",
   "id": "33b0f604",
   "metadata": {},
   "source": [
    "Changing the standard form of the Lane-Emden equation to something solvable numerically:\n",
    "$${\\begin{align}\\frac{1}{\\xi^2}\\frac{d}{d \\xi}(\\xi^2 \\frac{d \\theta}{d \\xi}) + \\theta^n = 0\\end{align}}$$\n",
    "$${\\begin{align}\\frac{d^2 \\theta}{d \\xi} + \\frac{2}{\\xi}\\frac{d \\theta}{d \\xi} + \\theta^n = 0\\end{align}}\\qquad Eqn(3)$$\\\n",
    "$${\\ddot\\theta = -(\\frac{2}{\\xi}\\dot\\theta + {\\theta}^{n}})$$"
   ]
  },
  {
   "cell_type": "code",
   "execution_count": null,
   "id": "6c8ea495",
   "metadata": {
    "scrolled": true
   },
   "outputs": [
    {
     "ename": "",
     "evalue": "",
     "output_type": "error",
     "traceback": [
      "\u001b[1;31mRunning cells with 'c:\\Users\\naska\\AppData\\Local\\Programs\\Python\\Python39\\python.exe' requires the ipykernel package.\n",
      "\u001b[1;31mRun the following command to install 'ipykernel' into the Python environment. \n",
      "\u001b[1;31mCommand: 'c:/Users/naska/AppData/Local/Programs/Python/Python39/python.exe -m pip install ipykernel -U --user --force-reinstall'"
     ]
    }
   ],
   "source": [
    "#function using the euler method to solve the lane emden eqn\n",
    "domain = 20\n",
    "def euler_solve(n):\n",
    "    theta_sol = []\n",
    "    xi_sol = []\n",
    "    \n",
    "    #initialising the variables\n",
    "    xi = 1e-6\n",
    "    d_xi = 1e-3\n",
    "    #(theta)^n = density/density(r=0) and xi = r/C therefore when xi tends to zero theta tends to 1 and dtheta must tend to zero for the differenti \n",
    "    dtheta = 0\n",
    "    theta = 1\n",
    "    \n",
    "    xi_new = xi\n",
    "    while (theta >= -1) and (xi_new < domain):\n",
    "        xi_new = xi_new + d_xi\n",
    "        dtheta_next = dtheta - (((2/xi_new)*dtheta)+theta**n)*d_xi\n",
    "        theta_next = theta + dtheta_next*d_xi\n",
    "        \n",
    "        #prints the values of xi when theta is zero\n",
    "        if((theta<=0 and theta_next >=0)or(theta>=0 and theta_next <=0)):\n",
    "            print(n, xi_new)\n",
    "        \n",
    "        dtheta = dtheta_next\n",
    "        theta  = theta_next\n",
    "        #appending the values in the list\n",
    "        theta_sol.append(theta)\n",
    "        xi_sol.append(xi_new)\n",
    "    return (xi_sol, theta_sol)\n",
    "\n",
    "#solving the functions for a particluar n and plotting them\n",
    "fig, axis = plt.subplots(figsize = (9,5))\n",
    "for i in range(6):\n",
    "    xi_i, theta_i = euler_solve(i) \n",
    "    axis.plot(xi_i, theta_i, label = i)\n",
    "\n",
    "axis.set_ylim(-1,1)\n",
    "axis.set_xlim(0, domain)\n",
    "plt.axhline(y=0.0, color=\"black\")\n",
    "axis.set_ylabel(\"Dimensionless density (theta)\")\n",
    "axis.set_xlabel(\"Dimensionless radius (xi)\")\n",
    "axis.legend()\n",
    "plt.show()  "
   ]
  },
  {
   "cell_type": "markdown",
   "id": "a432ae41",
   "metadata": {},
   "source": [
    "Modifying the equation a little to solve numerically:\n",
    "$${\\begin{align}\\frac{1}{\\xi^2}\\frac{d}{d \\xi}(\\xi^2 \\frac{d \\theta}{d \\xi}) + \\theta^n = 0\\end{align}}$$\n",
    "$${\\begin{align}\\frac{d}{d \\xi}(\\xi^2 \\frac{d \\theta}{d \\xi}) = -\\theta^n \\xi^2\\end{align}}$$\n",
    "$${\\begin{align}\\frac{d \\theta}{d \\xi} = -\\frac{1}{\\xi^2}\\int_{0}^{domain}{\\theta^n \\xi^2 d\\xi}\\end{align}}$$"
   ]
  },
  {
   "cell_type": "code",
   "execution_count": null,
   "id": "745a6928",
   "metadata": {},
   "outputs": [
    {
     "ename": "",
     "evalue": "",
     "output_type": "error",
     "traceback": [
      "\u001b[1;31mRunning cells with 'c:\\Users\\naska\\AppData\\Local\\Programs\\Python\\Python39\\python.exe' requires the ipykernel package.\n",
      "\u001b[1;31mRun the following command to install 'ipykernel' into the Python environment. \n",
      "\u001b[1;31mCommand: 'c:/Users/naska/AppData/Local/Programs/Python/Python39/python.exe -m pip install ipykernel -U --user --force-reinstall'"
     ]
    }
   ],
   "source": [
    "#functions to make my life easy\n",
    "def dtheta(xi,theta,integral,n):\n",
    "    return integral/(xi*xi)\n",
    "\n",
    "def ddtheta(xi,theta,integral,n):\n",
    "    return -(theta**n)*xi*xi\n",
    "\n",
    "#initialising the variables\n",
    "xi_0 = 1e-6\n",
    "d_xi = 1e-3\n",
    "dtheta_0 = 0\n",
    "theta_0 = 1\n",
    "domain = 20\n",
    "\n",
    "#function using the rk method to solve the lane emden eqn\n",
    "def rk_solve(f, g, n):\n",
    "    xi_sol = np.arange(xi_0+d_xi, domain+d_xi, d_xi)\n",
    "    theta_sol = np.zeros(xi_sol.size)\n",
    "    dtheta_sol = np.zeros(xi_sol.size)\n",
    "\n",
    "    theta_sol[0] = theta_0\n",
    "    dtheta_sol[0] = dtheta_0\n",
    "\n",
    "    for i in range(len(xi_sol)-1):\n",
    "        k1 = d_xi*f(xi_sol[i], theta_sol[i], dtheta_sol[i],n)\n",
    "        l1 = d_xi*g(xi_sol[i], theta_sol[i], dtheta_sol[i],n)\n",
    "\n",
    "        k2 = d_xi*f(xi_sol[i]+d_xi/2, theta_sol[i]+k1/2, dtheta_sol[i]+l1/2,n)\n",
    "        l2 = d_xi*g(xi_sol[i]+d_xi/2, theta_sol[i]+k1/2, dtheta_sol[i]+l1/2,n)\n",
    "\n",
    "        k3 = d_xi*f(xi_sol[i]+d_xi/2, theta_sol[i]+k2/2, dtheta_sol[i]+l2/2,n)\n",
    "        l3 = d_xi*g(xi_sol[i]+d_xi/2, theta_sol[i]+k2/2, dtheta_sol[i]+l2/2,n)\n",
    "\n",
    "        k4 = d_xi*f(xi_sol[i]+d_xi, theta_sol[i]+k3, dtheta_sol[i]+l3,n)\n",
    "        l4 = d_xi*g(xi_sol[i]+d_xi, theta_sol[i]+k3, dtheta_sol[i]+l3,n)\n",
    "\n",
    "        theta_sol[i+1] = theta_sol[i]+(k1+2*k2+2*k3+k4)/6\n",
    "        dtheta_sol[i+1] = dtheta_sol[i]+(l1+2*l2+2*l3+l4)/6\n",
    "        \n",
    "        #prints the values of xi when theta is zero\n",
    "        if((theta_sol[i]<=0 and theta_sol[i+1] >=0)or(theta_sol[i]>=0 and theta_sol[i+1] <=0)):\n",
    "            print(n, xi_sol[i+1])\n",
    "        \n",
    "    return xi_sol,theta_sol\n",
    "\n",
    "#solving the functions for a particluar n and plotting them\n",
    "fig, axis = plt.subplots(figsize = (9,5))\n",
    "for i in range(6):\n",
    "    xi_i, theta_i = rk_solve(dtheta,ddtheta,i) \n",
    "    axis.plot(xi_i, theta_i, label = i)\n",
    "\n",
    "axis.set_ylim(-1,1)\n",
    "axis.set_xlim(0, domain)\n",
    "plt.axhline(y=0.0, color=\"black\")\n",
    "axis.set_ylabel(\"Dimensionless density (theta)\")\n",
    "axis.set_xlabel(\"Dimensionless radius (xi)\")\n",
    "axis.legend()\n",
    "plt.show()"
   ]
  },
  {
   "cell_type": "markdown",
   "id": "8eb379b6",
   "metadata": {},
   "source": [
    "Now as we can see from the previous two graphs plotted by the euler and the runge-kutta (order 4) method respectively that for some values of $n$ aren't feasible like $n=1$ has multiple roots which are printed alongthwith the graph and for $n=0$ which is a downward parabola doesn't represent the density data from any of the physically plausible stars but in fact $n=0$ provides a solution for rocky planets and not stars. Now the solution which is consistent for stellar systems in the main-sequence is $n=3$, however, other values can be used to model neutron stars and white dwarfs, etc.\n",
    "\n",
    "So it can be inferred that the Lane-Emden equation is an important tool to model various stellar objects."
   ]
  }
 ],
 "metadata": {
  "interpreter": {
   "hash": "10820050751a80ba2573fad5bff39a4808dd9458c2741717dc0a987b04f4c475"
  },
  "kernelspec": {
   "display_name": "Python 3",
   "language": "python",
   "name": "python3"
  },
  "language_info": {
   "codemirror_mode": {
    "name": "ipython",
    "version": 3
   },
   "file_extension": ".py",
   "mimetype": "text/x-python",
   "name": "python",
   "nbconvert_exporter": "python",
   "pygments_lexer": "ipython3",
   "version": "3.9.5"
  }
 },
 "nbformat": 4,
 "nbformat_minor": 5
}
